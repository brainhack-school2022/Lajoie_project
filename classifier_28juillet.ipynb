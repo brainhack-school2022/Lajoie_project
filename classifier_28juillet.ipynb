{
 "cells": [
  {
   "cell_type": "code",
   "execution_count": 1,
   "id": "f678c901-e550-4e1a-9d4d-f51cfbe2e2a0",
   "metadata": {},
   "outputs": [],
   "source": [
    "%matplotlib inline\n",
    "import glob\n",
    "import numpy as np\n",
    "from tqdm import tqdm\n",
    "import matplotlib.pyplot as plt \n",
    "from sklearn.model_selection import train_test_split \n",
    "\n",
    "import pandas as pd\n",
    "import seaborn as sns; sns.set()\n",
    "import os\n",
    "from sklearn.decomposition import PCA\n",
    "from sklearn.model_selection import cross_val_score\n",
    "from sklearn.pipeline import Pipeline \n",
    "from sklearn.svm import LinearSVC\n",
    "\n",
    "\n",
    "from sklearn.metrics import confusion_matrix"
   ]
  },
  {
   "cell_type": "code",
   "execution_count": 2,
   "id": "52b41f51-a0e7-4d74-948f-a4de134d709a",
   "metadata": {},
   "outputs": [],
   "source": [
    "# load dataset containing sex and participant id\n",
    "df = pd.read_csv(\"/home/xlajoie/Desktop/Final_HCP_database.csv\")"
   ]
  },
  {
   "cell_type": "code",
   "execution_count": 3,
   "id": "ff5410d5-49a7-40e7-9cdb-98fbc7fac4be",
   "metadata": {},
   "outputs": [],
   "source": [
    "# path to seed-to-voxel matrices\n",
    "\n",
    "path_to_files = \"/home/xlajoie/Desktop/Seeds2voxels_n100\""
   ]
  },
  {
   "cell_type": "code",
   "execution_count": 4,
   "id": "44a14ca8-fc68-43ec-a556-829e0e7fb619",
   "metadata": {},
   "outputs": [],
   "source": [
    "path_list = glob.glob(\"Seeds2voxels_n100/*_Seeds2Voxels.nii.gz\")\n",
    "path_list.sort()"
   ]
  },
  {
   "cell_type": "code",
   "execution_count": 5,
   "id": "11d9cf36-9411-4f13-8e55-313ce17a3406",
   "metadata": {},
   "outputs": [],
   "source": [
    "# get only the npy files out of the Seeds2voxels folder which also has nii.gz files \n",
    "\n",
    "ls_sub = [(file) for file in os.listdir(path_to_files) if file[-3:] == \"npy\"]\n",
    "\n",
    "x_correl = []\n",
    "y_sex = []\n",
    "for filename in ls_sub:\n",
    "    sub_id = filename.split(\"_\")[0]\n",
    "    # if sub_id is in csv\n",
    "    if len(df.loc[df['subject_label'] == int(sub_id)]) != 0:\n",
    "        x_correl.append(np.load(os.path.join(path_to_files, filename)).flatten())\n",
    "        y_sex.append(df.loc[df['subject_label'] == int(sub_id)][\"Gender\"].values[0])\n",
    "\n",
    "x_correl = np.asarray(x_correl)\n",
    "    "
   ]
  },
  {
   "cell_type": "code",
   "execution_count": 6,
   "id": "6026a5fa-e73d-4dcd-b3eb-d5732b07bcca",
   "metadata": {},
   "outputs": [
    {
     "name": "stdout",
     "output_type": "stream",
     "text": [
      "40 78\n"
     ]
    }
   ],
   "source": [
    "print(sum(y_sex), len(y_sex))"
   ]
  },
  {
   "cell_type": "code",
   "execution_count": null,
   "id": "025192a8-c54b-48fa-91b3-0c4b1b2df20a",
   "metadata": {},
   "outputs": [],
   "source": []
  },
  {
   "cell_type": "code",
   "execution_count": 7,
   "id": "4a0a4634-76b8-4a2f-850b-5a70e5ceace5",
   "metadata": {},
   "outputs": [
    {
     "name": "stdout",
     "output_type": "stream",
     "text": [
      "train: 62 test: 16\n"
     ]
    }
   ],
   "source": [
    "# split the sample o training/test with a 80/20 % ratio \n",
    "# and stratify sex by class, also shuffle the data\n",
    "\n",
    "X_train, X_test, y_train, y_test = train_test_split( \n",
    "                                                    x_correl,  # x \n",
    "                                                    y_sex,       # y \n",
    "                                                    test_size = 0.2, # 80%/20% split \n",
    "                                                    shuffle = True,  #shuffle dataset before splitting\n",
    "                                                    stratify = y_sex,  # keep distribution of sex_class consistent between train and test sets\n",
    "                                                    random_state = 123) #same shuffle each time \n",
    "\n",
    "print('train:', len(X_train),'test:', len(X_test))\n",
    "\n",
    "\n"
   ]
  },
  {
   "cell_type": "code",
   "execution_count": 8,
   "id": "e2135ecd-2c59-4018-9b07-5a2db27f51e5",
   "metadata": {},
   "outputs": [
    {
     "name": "stderr",
     "output_type": "stream",
     "text": [
      "100%|█████████████████████████████████████████████| 6/6 [08:38<00:00, 86.50s/it]\n"
     ]
    }
   ],
   "source": [
    "# comparing different # of features for find how many explain the most variance \n",
    "\n",
    "score = []\n",
    "max_feature = int(0.9*len(X_train))\n",
    "n_components_range = range(0, max_feature, 10) # A range of different values for n_components\n",
    "\n",
    "for n_comp in tqdm(n_components_range):\n",
    "    if n_comp == 0:\n",
    "        model = LinearSVC(max_iter=2000)\n",
    "    else:\n",
    "        model = Pipeline([\n",
    "            ('feature_selection', PCA(n_comp)),\n",
    "            ('prediction', LinearSVC(max_iter=2000))\n",
    "                      ])\n",
    "    #score = cross_val_score(model, X_train, y_train, cv=10)\n",
    "    score.append(cross_val_score(model, X_train, y_train, cv=10, n_jobs = 3).mean())\n"
   ]
  },
  {
   "cell_type": "code",
   "execution_count": 9,
   "id": "7cf26322-0306-4eaf-888f-80ce6c68e1f2",
   "metadata": {},
   "outputs": [
    {
     "name": "stdout",
     "output_type": "stream",
     "text": [
      "[0.6928571428571428, 0.6476190476190475, 0.6404761904761904, 0.6476190476190475, 0.6428571428571429, 0.6238095238095239]\n"
     ]
    }
   ],
   "source": [
    "print(score)\n",
    "x = list(n_components_range)"
   ]
  },
  {
   "cell_type": "code",
   "execution_count": 10,
   "id": "468abc92-c7f6-4ee2-ba5d-8cfb5fd19796",
   "metadata": {},
   "outputs": [
    {
     "data": {
      "text/plain": [
       "Text(0, 0.5, 'Cross_val Score')"
      ]
     },
     "execution_count": 10,
     "metadata": {},
     "output_type": "execute_result"
    },
    {
     "data": {
      "image/png": "[encoded data removed]",
      "text/plain": [
       "<Figure size 432x288 with 1 Axes>"
      ]
     },
     "metadata": {},
     "output_type": "display_data"
    }
   ],
   "source": [
    "plt.plot(x,score, color = \"b\", marker = \"*\")\n",
    "plt.xlabel(\"Features\")\n",
    "plt.ylabel(\"Cross_val Score\")"
   ]
  },
  {
   "cell_type": "code",
   "execution_count": 11,
   "id": "97a6ff3c-64d9-468d-987b-9ebbce48a1af",
   "metadata": {},
   "outputs": [
    {
     "data": {
      "text/plain": [
       "0"
      ]
     },
     "execution_count": 11,
     "metadata": {},
     "output_type": "execute_result"
    }
   ],
   "source": [
    "best_ncomp = n_components_range[np.array(score).argmax()]\n",
    "best_ncomp"
   ]
  },
  {
   "cell_type": "code",
   "execution_count": 12,
   "id": "ff4a81fc-b8eb-425f-9457-b9b3129dcdab",
   "metadata": {},
   "outputs": [],
   "source": [
    "# Now that we know how many features explain the most variance, we can put the number here \n",
    "\n",
    "#pca = PCA(n_components=5)  #top 5 which explain the most variance found from the \n",
    "#pca.fit(x_correl)\n",
    "#X_features = pca.transform(x_correl)\n",
    "#print(X_features)"
   ]
  },
  {
   "cell_type": "code",
   "execution_count": 13,
   "id": "eeff217e-f0ea-4187-87c2-fc2f2d623a6c",
   "metadata": {},
   "outputs": [
    {
     "name": "stdout",
     "output_type": "stream",
     "text": [
      "       Positive  Negative\n",
      "True          6         2\n",
      "False         0         8\n",
      "accuracy (r2) = 0.875\n"
     ]
    }
   ],
   "source": [
    "if best_ncomp == 0:\n",
    "    model = LinearSVC(max_iter=2000)\n",
    "else:\n",
    "    model = Pipeline([\n",
    "            ('feature_selection', PCA(best_ncomp)),\n",
    "            ('prediction', LinearSVC(max_iter=2000))\n",
    "                      ])\n",
    "model.fit(X_train,y_train) #fit the model/ train the model\n",
    "y_pred = model.predict(X_test)\n",
    "\n",
    "#calculate the model accuracy\n",
    "acc = model.score(X_test, y_test)\n",
    "\n",
    "#compute the confusion matrix\n",
    "conf_matrix = confusion_matrix(y_test, y_pred)\n",
    "tn, fp, fn, tp = conf_matrix.ravel()\n",
    "df = pd.DataFrame(data=[[tn, fp],[fn,tp]], index= [\"True\", \"False\"], columns = [\"Positive\", \"Negative\"])\n",
    "print(df.head())\n",
    "\n",
    "# print results\n",
    "print('accuracy (r2) =', acc)\n",
    "\n"
   ]
  },
  {
   "cell_type": "code",
   "execution_count": 14,
   "id": "8dde2924-e6bf-448f-becf-8f94249ecb76",
   "metadata": {},
   "outputs": [
    {
     "data": {
      "text/html": [
       "<div>\n",
       "<style scoped>\n",
       "    .dataframe tbody tr th:only-of-type {\n",
       "        vertical-align: middle;\n",
       "    }\n",
       "\n",
       "    .dataframe tbody tr th {\n",
       "        vertical-align: top;\n",
       "    }\n",
       "\n",
       "    .dataframe thead th {\n",
       "        text-align: right;\n",
       "    }\n",
       "</style>\n",
       "<table border=\"1\" class=\"dataframe\">\n",
       "  <thead>\n",
       "    <tr style=\"text-align: right;\">\n",
       "      <th></th>\n",
       "      <th>Positive</th>\n",
       "      <th>Negative</th>\n",
       "    </tr>\n",
       "  </thead>\n",
       "  <tbody>\n",
       "    <tr>\n",
       "      <th>True</th>\n",
       "      <td>6</td>\n",
       "      <td>2</td>\n",
       "    </tr>\n",
       "    <tr>\n",
       "      <th>False</th>\n",
       "      <td>0</td>\n",
       "      <td>8</td>\n",
       "    </tr>\n",
       "  </tbody>\n",
       "</table>\n",
       "</div>"
      ],
      "text/plain": [
       "       Positive  Negative\n",
       "True          6         2\n",
       "False         0         8"
      ]
     },
     "execution_count": 14,
     "metadata": {},
     "output_type": "execute_result"
    }
   ],
   "source": [
    "df = pd.DataFrame(data=[[tn, fp],[fn,tp]], index= [\"True\", \"False\"], columns = [\"Positive\", \"Negative\"])\n",
    "df"
   ]
  },
  {
   "cell_type": "code",
   "execution_count": 69,
   "id": "7c87c116-858e-4d5f-8af0-337bba4007d8",
   "metadata": {},
   "outputs": [
    {
     "data": {
      "text/plain": [
       "array([[ 1.36475495e-06, -9.87819341e-05, -1.70853320e-05, ...,\n",
       "         3.73690882e-05,  6.07559028e-06,  5.95541848e-06],\n",
       "       [ 4.86864658e-06, -5.34868456e-05, -3.85114117e-05, ...,\n",
       "        -5.35429625e-05,  1.07568074e-05, -5.68645821e-06],\n",
       "       [-1.59411367e-06, -3.60149501e-05,  3.70606090e-05, ...,\n",
       "        -1.71100941e-05, -2.81519874e-05,  8.64725547e-06],\n",
       "       ...,\n",
       "       [ 8.98285853e-06, -2.37361785e-06,  2.58994519e-05, ...,\n",
       "         9.39746632e-05,  7.45835081e-05,  1.00464321e-04],\n",
       "       [ 8.54829179e-05,  5.60561043e-05,  9.13505416e-05, ...,\n",
       "        -3.64804271e-05,  9.56404308e-06,  1.27779697e-04],\n",
       "       [ 3.06900346e-05, -1.03052615e-04, -1.32766946e-04, ...,\n",
       "        -3.94461053e-05, -4.25329360e-05, -6.39278297e-05]])"
      ]
     },
     "execution_count": 69,
     "metadata": {},
     "output_type": "execute_result"
    }
   ],
   "source": [
    "coef= model.coef_[0]\n",
    "coef_reshape = np.reshape(coef, (8, 193369))\n",
    "coef_reshape"
   ]
  },
  {
   "cell_type": "code",
   "execution_count": 45,
   "id": "9ce0b293-52c4-4200-9257-c0aab3085abe",
   "metadata": {},
   "outputs": [],
   "source": [
    "#coef = model[1].coef_\n",
    "#coef = model[0].inverse_transform(coef)"
   ]
  },
  {
   "cell_type": "markdown",
   "id": "25de7ee1-2c68-42ea-b782-52c95aa8f2e9",
   "metadata": {},
   "source": [
    "# Next Steps "
   ]
  },
  {
   "cell_type": "markdown",
   "id": "ac60f19d-ebff-43f0-9f28-b1d3ee2262f5",
   "metadata": {},
   "source": [
    "#### Import masker"
   ]
  },
  {
   "cell_type": "code",
   "execution_count": 1,
   "id": "61c79a83-b5ae-4ce9-88f2-192a5f3669a9",
   "metadata": {},
   "outputs": [],
   "source": [
    "#from nilearn.maskers import NiftiMasker\n",
    "#brain_masker = NiftiMasker(smoothing_fwhm=6, detrend=True, standardize=True, low_pass=0.1, high_pass=0.01, t_r=2,\n",
    "#                                   memory='nilearn_cache', memory_level=1, verbose=0)"
   ]
  },
  {
   "cell_type": "code",
   "execution_count": 2,
   "id": "35494cae-5688-4bcc-b8c5-dbec2b86eb68",
   "metadata": {},
   "outputs": [],
   "source": [
    "#import nilearn\n",
    "#masker = \"/home/xlajoie/Desktop/masker.nii.gz\"\n",
    "#mask = nilearn.masking.unmask(coef_reshape[0], masker)"
   ]
  },
  {
   "cell_type": "code",
   "execution_count": 3,
   "id": "a0201639-d610-40f9-98bd-72458d0922f5",
   "metadata": {},
   "outputs": [],
   "source": [
    "#coef_reshapeDF = pd.DataFrame(coef_reshape)\n",
    "\n",
    "#print(coef_reshapeDF.to_numerics())"
   ]
  },
  {
   "cell_type": "markdown",
   "id": "848cb440-28bc-4b10-a872-cd20b3607a1f",
   "metadata": {},
   "source": [
    "#### Plot the main features on a brain "
   ]
  },
  {
   "cell_type": "code",
   "execution_count": 4,
   "id": "3c32ef98-e80f-4931-8b25-a4f39294a027",
   "metadata": {},
   "outputs": [],
   "source": [
    "#from nilearn import plotting\n",
    "\n",
    "#display = plotting.plot_stat_map(pd.to_numeric(coef_reshapeDF[0]),\n",
    "#                                 threshold=None, vmax=1,\n",
    " #                                cut_coords=None,\n",
    " #                                title=\"coef\",\n",
    "  #                               )\n",
    "#display.add_markers(marker_coords=None, marker_color='g',\n",
    "#                        marker_size=50)"
   ]
  },
  {
   "cell_type": "code",
   "execution_count": null,
   "id": "593dcb43-a99d-44ca-82ea-9040319df8dc",
   "metadata": {},
   "outputs": [],
   "source": []
  },
  {
   "cell_type": "code",
   "execution_count": null,
   "id": "cd3fef97-a407-4249-8e86-ef468772c1cf",
   "metadata": {},
   "outputs": [],
   "source": []
  }
 ],
 "metadata": {
  "kernelspec": {
   "display_name": "Python 3 (ipykernel)",
   "language": "python",
   "name": "python3"
  },
  "language_info": {
   "codemirror_mode": {
    "name": "ipython",
    "version": 3
   },
   "file_extension": ".py",
   "mimetype": "text/x-python",
   "name": "python",
   "nbconvert_exporter": "python",
   "pygments_lexer": "ipython3",
   "version": "3.8.10"
  }
 },
 "nbformat": 4,
 "nbformat_minor": 5
}
